{
 "cells": [
  {
   "cell_type": "code",
   "execution_count": 1,
   "id": "9f8297f2",
   "metadata": {
    "execution": {
     "iopub.execute_input": "2023-03-18T10:23:35.729961Z",
     "iopub.status.busy": "2023-03-18T10:23:35.729075Z",
     "iopub.status.idle": "2023-03-18T10:23:37.216461Z",
     "shell.execute_reply": "2023-03-18T10:23:37.215153Z"
    },
    "id": "2Kt6EgoGSX3J",
    "outputId": "7ef4eb88-2239-4ef0-8346-0045df0d84de",
    "papermill": {
     "duration": 1.505356,
     "end_time": "2023-03-18T10:23:37.219359",
     "exception": false,
     "start_time": "2023-03-18T10:23:35.714003",
     "status": "completed"
    },
    "tags": []
   },
   "outputs": [],
   "source": [
    "import pandas as pd\n",
    "import pickle\n",
    "import numpy as np\n",
    "\n",
    "import seaborn as sns\n",
    "from sklearn.model_selection import train_test_split\n",
    "from sklearn.linear_model import LinearRegression\n",
    "from sklearn import metrics \n",
    "from sklearn.preprocessing import OneHotEncoder\n",
    "from sklearn.compose import make_column_transformer\n",
    "from sklearn.pipeline import make_pipeline\n",
    "from sklearn.tree import DecisionTreeRegressor "
   ]
  },
  {
   "cell_type": "code",
   "execution_count": 2,
   "id": "6f623751",
   "metadata": {
    "execution": {
     "iopub.execute_input": "2023-03-18T10:23:37.240544Z",
     "iopub.status.busy": "2023-03-18T10:23:37.240102Z",
     "iopub.status.idle": "2023-03-18T10:23:37.285147Z",
     "shell.execute_reply": "2023-03-18T10:23:37.284130Z"
    },
    "id": "bYPHd12jSX3N",
    "outputId": "b54ad090-fe81-4076-8af6-fb0131c6f29a",
    "papermill": {
     "duration": 0.058737,
     "end_time": "2023-03-18T10:23:37.287819",
     "exception": false,
     "start_time": "2023-03-18T10:23:37.229082",
     "status": "completed"
    },
    "tags": []
   },
   "outputs": [
    {
     "data": {
      "text/html": [
       "<div>\n",
       "<style scoped>\n",
       "    .dataframe tbody tr th:only-of-type {\n",
       "        vertical-align: middle;\n",
       "    }\n",
       "\n",
       "    .dataframe tbody tr th {\n",
       "        vertical-align: top;\n",
       "    }\n",
       "\n",
       "    .dataframe thead th {\n",
       "        text-align: right;\n",
       "    }\n",
       "</style>\n",
       "<table border=\"1\" class=\"dataframe\">\n",
       "  <thead>\n",
       "    <tr style=\"text-align: right;\">\n",
       "      <th></th>\n",
       "      <th>Name of car</th>\n",
       "      <th>Company name</th>\n",
       "      <th>Year</th>\n",
       "      <th>Price</th>\n",
       "      <th>Kms driven</th>\n",
       "      <th>Fuel_type</th>\n",
       "    </tr>\n",
       "  </thead>\n",
       "  <tbody>\n",
       "    <tr>\n",
       "      <th>0</th>\n",
       "      <td>Hyundai Santro Xing XO eRLX Euro III</td>\n",
       "      <td>Hyundai</td>\n",
       "      <td>2007</td>\n",
       "      <td>80,000</td>\n",
       "      <td>45,000</td>\n",
       "      <td>Petrol</td>\n",
       "    </tr>\n",
       "    <tr>\n",
       "      <th>1</th>\n",
       "      <td>Mahindra Jeep CL550 MDI</td>\n",
       "      <td>Mahindra</td>\n",
       "      <td>2006</td>\n",
       "      <td>4,25,000</td>\n",
       "      <td>40</td>\n",
       "      <td>Diesel</td>\n",
       "    </tr>\n",
       "    <tr>\n",
       "      <th>2</th>\n",
       "      <td>Maruti Suzuki Alto 800 Vxi</td>\n",
       "      <td>Maruti</td>\n",
       "      <td>2018</td>\n",
       "      <td>Ask For Price</td>\n",
       "      <td>22,000 kms</td>\n",
       "      <td>Petrol</td>\n",
       "    </tr>\n",
       "    <tr>\n",
       "      <th>3</th>\n",
       "      <td>Hyundai Grand i10 Magna 1.2 Kappa VTVT</td>\n",
       "      <td>Hyundai</td>\n",
       "      <td>2014</td>\n",
       "      <td>3,25,000</td>\n",
       "      <td>28,000</td>\n",
       "      <td>Petrol</td>\n",
       "    </tr>\n",
       "    <tr>\n",
       "      <th>4</th>\n",
       "      <td>Ford EcoSport Titanium 1.5L TDCi</td>\n",
       "      <td>Ford</td>\n",
       "      <td>2014</td>\n",
       "      <td>5,75,000</td>\n",
       "      <td>36,000</td>\n",
       "      <td>Diesel</td>\n",
       "    </tr>\n",
       "  </tbody>\n",
       "</table>\n",
       "</div>"
      ],
      "text/plain": [
       "                              Name of car Company name  Year          Price  \\\n",
       "0    Hyundai Santro Xing XO eRLX Euro III      Hyundai  2007         80,000   \n",
       "1                 Mahindra Jeep CL550 MDI     Mahindra  2006       4,25,000   \n",
       "2              Maruti Suzuki Alto 800 Vxi       Maruti  2018  Ask For Price   \n",
       "3  Hyundai Grand i10 Magna 1.2 Kappa VTVT      Hyundai  2014       3,25,000   \n",
       "4        Ford EcoSport Titanium 1.5L TDCi         Ford  2014       5,75,000   \n",
       "\n",
       "   Kms driven Fuel_type  \n",
       "0      45,000    Petrol  \n",
       "1          40    Diesel  \n",
       "2  22,000 kms    Petrol  \n",
       "3      28,000    Petrol  \n",
       "4      36,000    Diesel  "
      ]
     },
     "execution_count": 2,
     "metadata": {},
     "output_type": "execute_result"
    }
   ],
   "source": [
    "data=pd.read_csv('quikr_car.csv')\n",
    "data.head()"
   ]
  },
  {
   "cell_type": "code",
   "execution_count": 4,
   "id": "aa8d51c2",
   "metadata": {
    "execution": {
     "iopub.execute_input": "2023-03-18T10:23:37.309744Z",
     "iopub.status.busy": "2023-03-18T10:23:37.308970Z",
     "iopub.status.idle": "2023-03-18T10:23:37.315727Z",
     "shell.execute_reply": "2023-03-18T10:23:37.314558Z"
    },
    "id": "gTNX9ecBSX3Q",
    "outputId": "e3a1a451-8274-4b48-f3d6-3dc4f046d95f",
    "papermill": {
     "duration": 0.020556,
     "end_time": "2023-03-18T10:23:37.318383",
     "exception": false,
     "start_time": "2023-03-18T10:23:37.297827",
     "status": "completed"
    },
    "tags": []
   },
   "outputs": [
    {
     "data": {
      "text/plain": [
       "(892, 6)"
      ]
     },
     "execution_count": 4,
     "metadata": {},
     "output_type": "execute_result"
    }
   ],
   "source": [
    "data.shape"
   ]
  },
  {
   "cell_type": "code",
   "execution_count": 5,
   "id": "4e31a2bd",
   "metadata": {
    "execution": {
     "iopub.execute_input": "2023-03-18T10:23:37.340352Z",
     "iopub.status.busy": "2023-03-18T10:23:37.339246Z",
     "iopub.status.idle": "2023-03-18T10:23:37.364483Z",
     "shell.execute_reply": "2023-03-18T10:23:37.362918Z"
    },
    "id": "FEJUovLMSX3S",
    "outputId": "e5c16790-d4f7-45fe-8914-334a4c6e9727",
    "papermill": {
     "duration": 0.03909,
     "end_time": "2023-03-18T10:23:37.367189",
     "exception": false,
     "start_time": "2023-03-18T10:23:37.328099",
     "status": "completed"
    },
    "scrolled": true,
    "tags": []
   },
   "outputs": [
    {
     "name": "stdout",
     "output_type": "stream",
     "text": [
      "<class 'pandas.core.frame.DataFrame'>\n",
      "RangeIndex: 892 entries, 0 to 891\n",
      "Data columns (total 6 columns):\n",
      " #   Column        Non-Null Count  Dtype \n",
      "---  ------        --------------  ----- \n",
      " 0   Name of car   892 non-null    object\n",
      " 1   Company name  892 non-null    object\n",
      " 2   Year          892 non-null    object\n",
      " 3   Price         892 non-null    object\n",
      " 4   Kms driven    840 non-null    object\n",
      " 5   Fuel_type     837 non-null    object\n",
      "dtypes: object(6)\n",
      "memory usage: 41.9+ KB\n"
     ]
    }
   ],
   "source": [
    "data.info()"
   ]
  },
  {
   "cell_type": "code",
   "execution_count": 6,
   "id": "6b248d6f",
   "metadata": {
    "execution": {
     "iopub.execute_input": "2023-03-18T10:23:37.389830Z",
     "iopub.status.busy": "2023-03-18T10:23:37.388876Z",
     "iopub.status.idle": "2023-03-18T10:23:37.398797Z",
     "shell.execute_reply": "2023-03-18T10:23:37.397654Z"
    },
    "id": "-5swZMPhSX3U",
    "outputId": "f20a3dd8-308b-460e-fced-76bb981af269",
    "papermill": {
     "duration": 0.023676,
     "end_time": "2023-03-18T10:23:37.401156",
     "exception": false,
     "start_time": "2023-03-18T10:23:37.377480",
     "status": "completed"
    },
    "tags": []
   },
   "outputs": [
    {
     "data": {
      "text/plain": [
       "Name of car      0\n",
       "Company name     0\n",
       "Year             0\n",
       "Price            0\n",
       "Kms driven      52\n",
       "Fuel_type       55\n",
       "dtype: int64"
      ]
     },
     "execution_count": 6,
     "metadata": {},
     "output_type": "execute_result"
    }
   ],
   "source": [
    "data.isnull().sum()\n"
   ]
  },
  {
   "cell_type": "code",
   "execution_count": 10,
   "id": "a6715855",
   "metadata": {
    "execution": {
     "iopub.execute_input": "2023-03-18T10:23:37.423906Z",
     "iopub.status.busy": "2023-03-18T10:23:37.423143Z",
     "iopub.status.idle": "2023-03-18T10:23:37.430324Z",
     "shell.execute_reply": "2023-03-18T10:23:37.428934Z"
    },
    "id": "Pt-VA8dVSX3V",
    "papermill": {
     "duration": 0.021819,
     "end_time": "2023-03-18T10:23:37.433149",
     "exception": false,
     "start_time": "2023-03-18T10:23:37.411330",
     "status": "completed"
    },
    "tags": []
   },
   "outputs": [],
   "source": [
    "data=data[data['Year'].str.isnumeric()]"
   ]
  },
  {
   "cell_type": "code",
   "execution_count": 11,
   "id": "793fd005",
   "metadata": {
    "execution": {
     "iopub.execute_input": "2023-03-18T10:23:37.456042Z",
     "iopub.status.busy": "2023-03-18T10:23:37.455625Z",
     "iopub.status.idle": "2023-03-18T10:23:37.461847Z",
     "shell.execute_reply": "2023-03-18T10:23:37.460536Z"
    },
    "id": "x94hGEX6SX3V",
    "papermill": {
     "duration": 0.020141,
     "end_time": "2023-03-18T10:23:37.464392",
     "exception": false,
     "start_time": "2023-03-18T10:23:37.444251",
     "status": "completed"
    },
    "tags": []
   },
   "outputs": [],
   "source": [
    "data['Year']=data['Year'].astype(int)"
   ]
  },
  {
   "cell_type": "code",
   "execution_count": 12,
   "id": "fa6e30f0",
   "metadata": {
    "execution": {
     "iopub.execute_input": "2023-03-18T10:23:37.487209Z",
     "iopub.status.busy": "2023-03-18T10:23:37.486444Z",
     "iopub.status.idle": "2023-03-18T10:23:37.494645Z",
     "shell.execute_reply": "2023-03-18T10:23:37.493422Z"
    },
    "id": "F5X9bQc5SX3W",
    "papermill": {
     "duration": 0.022208,
     "end_time": "2023-03-18T10:23:37.497063",
     "exception": false,
     "start_time": "2023-03-18T10:23:37.474855",
     "status": "completed"
    },
    "tags": []
   },
   "outputs": [],
   "source": [
    "data=data[data['Price']!=\"Ask For Price\"]"
   ]
  },
  {
   "cell_type": "code",
   "execution_count": 13,
   "id": "f588f0cc",
   "metadata": {
    "execution": {
     "iopub.execute_input": "2023-03-18T10:23:37.519054Z",
     "iopub.status.busy": "2023-03-18T10:23:37.518604Z",
     "iopub.status.idle": "2023-03-18T10:23:37.526191Z",
     "shell.execute_reply": "2023-03-18T10:23:37.524952Z"
    },
    "id": "f0mhr7XySX3X",
    "papermill": {
     "duration": 0.021671,
     "end_time": "2023-03-18T10:23:37.528766",
     "exception": false,
     "start_time": "2023-03-18T10:23:37.507095",
     "status": "completed"
    },
    "tags": []
   },
   "outputs": [
    {
     "ename": "AttributeError",
     "evalue": "Can only use .str accessor with string values!",
     "output_type": "error",
     "traceback": [
      "\u001b[0;31m---------------------------------------------------------------------------\u001b[0m",
      "\u001b[0;31mAttributeError\u001b[0m                            Traceback (most recent call last)",
      "\u001b[0;32m<ipython-input-13-f40ab6b9c22c>\u001b[0m in \u001b[0;36m<module>\u001b[0;34m\u001b[0m\n\u001b[0;32m----> 1\u001b[0;31m \u001b[0mdata\u001b[0m\u001b[0;34m[\u001b[0m\u001b[0;34m'Price'\u001b[0m\u001b[0;34m]\u001b[0m\u001b[0;34m=\u001b[0m\u001b[0mdata\u001b[0m\u001b[0;34m[\u001b[0m\u001b[0;34m'Price'\u001b[0m\u001b[0;34m]\u001b[0m\u001b[0;34m.\u001b[0m\u001b[0mstr\u001b[0m\u001b[0;34m.\u001b[0m\u001b[0mreplace\u001b[0m\u001b[0;34m(\u001b[0m\u001b[0;34m','\u001b[0m\u001b[0;34m,\u001b[0m\u001b[0;34m''\u001b[0m\u001b[0;34m)\u001b[0m\u001b[0;34m.\u001b[0m\u001b[0mastype\u001b[0m\u001b[0;34m(\u001b[0m\u001b[0mint\u001b[0m\u001b[0;34m)\u001b[0m\u001b[0;34m\u001b[0m\u001b[0;34m\u001b[0m\u001b[0m\n\u001b[0m",
      "\u001b[0;32m/Applications/anaconda3/lib/python3.8/site-packages/pandas/core/generic.py\u001b[0m in \u001b[0;36m__getattr__\u001b[0;34m(self, name)\u001b[0m\n\u001b[1;32m   5485\u001b[0m         ):\n\u001b[1;32m   5486\u001b[0m             \u001b[0;32mreturn\u001b[0m \u001b[0mself\u001b[0m\u001b[0;34m[\u001b[0m\u001b[0mname\u001b[0m\u001b[0;34m]\u001b[0m\u001b[0;34m\u001b[0m\u001b[0;34m\u001b[0m\u001b[0m\n\u001b[0;32m-> 5487\u001b[0;31m         \u001b[0;32mreturn\u001b[0m \u001b[0mobject\u001b[0m\u001b[0;34m.\u001b[0m\u001b[0m__getattribute__\u001b[0m\u001b[0;34m(\u001b[0m\u001b[0mself\u001b[0m\u001b[0;34m,\u001b[0m \u001b[0mname\u001b[0m\u001b[0;34m)\u001b[0m\u001b[0;34m\u001b[0m\u001b[0;34m\u001b[0m\u001b[0m\n\u001b[0m\u001b[1;32m   5488\u001b[0m \u001b[0;34m\u001b[0m\u001b[0m\n\u001b[1;32m   5489\u001b[0m     \u001b[0;32mdef\u001b[0m \u001b[0m__setattr__\u001b[0m\u001b[0;34m(\u001b[0m\u001b[0mself\u001b[0m\u001b[0;34m,\u001b[0m \u001b[0mname\u001b[0m\u001b[0;34m:\u001b[0m \u001b[0mstr\u001b[0m\u001b[0;34m,\u001b[0m \u001b[0mvalue\u001b[0m\u001b[0;34m)\u001b[0m \u001b[0;34m->\u001b[0m \u001b[0;32mNone\u001b[0m\u001b[0;34m:\u001b[0m\u001b[0;34m\u001b[0m\u001b[0;34m\u001b[0m\u001b[0m\n",
      "\u001b[0;32m/Applications/anaconda3/lib/python3.8/site-packages/pandas/core/accessor.py\u001b[0m in \u001b[0;36m__get__\u001b[0;34m(self, obj, cls)\u001b[0m\n\u001b[1;32m    179\u001b[0m             \u001b[0;31m# we're accessing the attribute of the class, i.e., Dataset.geo\u001b[0m\u001b[0;34m\u001b[0m\u001b[0;34m\u001b[0m\u001b[0;34m\u001b[0m\u001b[0m\n\u001b[1;32m    180\u001b[0m             \u001b[0;32mreturn\u001b[0m \u001b[0mself\u001b[0m\u001b[0;34m.\u001b[0m\u001b[0m_accessor\u001b[0m\u001b[0;34m\u001b[0m\u001b[0;34m\u001b[0m\u001b[0m\n\u001b[0;32m--> 181\u001b[0;31m         \u001b[0maccessor_obj\u001b[0m \u001b[0;34m=\u001b[0m \u001b[0mself\u001b[0m\u001b[0;34m.\u001b[0m\u001b[0m_accessor\u001b[0m\u001b[0;34m(\u001b[0m\u001b[0mobj\u001b[0m\u001b[0;34m)\u001b[0m\u001b[0;34m\u001b[0m\u001b[0;34m\u001b[0m\u001b[0m\n\u001b[0m\u001b[1;32m    182\u001b[0m         \u001b[0;31m# Replace the property with the accessor object. Inspired by:\u001b[0m\u001b[0;34m\u001b[0m\u001b[0;34m\u001b[0m\u001b[0;34m\u001b[0m\u001b[0m\n\u001b[1;32m    183\u001b[0m         \u001b[0;31m# https://www.pydanny.com/cached-property.html\u001b[0m\u001b[0;34m\u001b[0m\u001b[0;34m\u001b[0m\u001b[0;34m\u001b[0m\u001b[0m\n",
      "\u001b[0;32m/Applications/anaconda3/lib/python3.8/site-packages/pandas/core/strings/accessor.py\u001b[0m in \u001b[0;36m__init__\u001b[0;34m(self, data)\u001b[0m\n\u001b[1;32m    166\u001b[0m         \u001b[0;32mfrom\u001b[0m \u001b[0mpandas\u001b[0m\u001b[0;34m.\u001b[0m\u001b[0mcore\u001b[0m\u001b[0;34m.\u001b[0m\u001b[0marrays\u001b[0m\u001b[0;34m.\u001b[0m\u001b[0mstring_\u001b[0m \u001b[0;32mimport\u001b[0m \u001b[0mStringDtype\u001b[0m\u001b[0;34m\u001b[0m\u001b[0;34m\u001b[0m\u001b[0m\n\u001b[1;32m    167\u001b[0m \u001b[0;34m\u001b[0m\u001b[0m\n\u001b[0;32m--> 168\u001b[0;31m         \u001b[0mself\u001b[0m\u001b[0;34m.\u001b[0m\u001b[0m_inferred_dtype\u001b[0m \u001b[0;34m=\u001b[0m \u001b[0mself\u001b[0m\u001b[0;34m.\u001b[0m\u001b[0m_validate\u001b[0m\u001b[0;34m(\u001b[0m\u001b[0mdata\u001b[0m\u001b[0;34m)\u001b[0m\u001b[0;34m\u001b[0m\u001b[0;34m\u001b[0m\u001b[0m\n\u001b[0m\u001b[1;32m    169\u001b[0m         \u001b[0mself\u001b[0m\u001b[0;34m.\u001b[0m\u001b[0m_is_categorical\u001b[0m \u001b[0;34m=\u001b[0m \u001b[0mis_categorical_dtype\u001b[0m\u001b[0;34m(\u001b[0m\u001b[0mdata\u001b[0m\u001b[0;34m.\u001b[0m\u001b[0mdtype\u001b[0m\u001b[0;34m)\u001b[0m\u001b[0;34m\u001b[0m\u001b[0;34m\u001b[0m\u001b[0m\n\u001b[1;32m    170\u001b[0m         \u001b[0mself\u001b[0m\u001b[0;34m.\u001b[0m\u001b[0m_is_string\u001b[0m \u001b[0;34m=\u001b[0m \u001b[0misinstance\u001b[0m\u001b[0;34m(\u001b[0m\u001b[0mdata\u001b[0m\u001b[0;34m.\u001b[0m\u001b[0mdtype\u001b[0m\u001b[0;34m,\u001b[0m \u001b[0mStringDtype\u001b[0m\u001b[0;34m)\u001b[0m\u001b[0;34m\u001b[0m\u001b[0;34m\u001b[0m\u001b[0m\n",
      "\u001b[0;32m/Applications/anaconda3/lib/python3.8/site-packages/pandas/core/strings/accessor.py\u001b[0m in \u001b[0;36m_validate\u001b[0;34m(data)\u001b[0m\n\u001b[1;32m    223\u001b[0m \u001b[0;34m\u001b[0m\u001b[0m\n\u001b[1;32m    224\u001b[0m         \u001b[0;32mif\u001b[0m \u001b[0minferred_dtype\u001b[0m \u001b[0;32mnot\u001b[0m \u001b[0;32min\u001b[0m \u001b[0mallowed_types\u001b[0m\u001b[0;34m:\u001b[0m\u001b[0;34m\u001b[0m\u001b[0;34m\u001b[0m\u001b[0m\n\u001b[0;32m--> 225\u001b[0;31m             \u001b[0;32mraise\u001b[0m \u001b[0mAttributeError\u001b[0m\u001b[0;34m(\u001b[0m\u001b[0;34m\"Can only use .str accessor with string values!\"\u001b[0m\u001b[0;34m)\u001b[0m\u001b[0;34m\u001b[0m\u001b[0;34m\u001b[0m\u001b[0m\n\u001b[0m\u001b[1;32m    226\u001b[0m         \u001b[0;32mreturn\u001b[0m \u001b[0minferred_dtype\u001b[0m\u001b[0;34m\u001b[0m\u001b[0;34m\u001b[0m\u001b[0m\n\u001b[1;32m    227\u001b[0m \u001b[0;34m\u001b[0m\u001b[0m\n",
      "\u001b[0;31mAttributeError\u001b[0m: Can only use .str accessor with string values!"
     ]
    }
   ],
   "source": [
    "data['Price']=data['Price'].str.replace(',','').astype(int)"
   ]
  },
  {
   "cell_type": "code",
   "execution_count": 14,
   "id": "6e636e2b",
   "metadata": {
    "execution": {
     "iopub.execute_input": "2023-03-18T10:23:37.550438Z",
     "iopub.status.busy": "2023-03-18T10:23:37.550004Z",
     "iopub.status.idle": "2023-03-18T10:23:37.559971Z",
     "shell.execute_reply": "2023-03-18T10:23:37.558693Z"
    },
    "id": "CDda34ozSX3X",
    "papermill": {
     "duration": 0.023728,
     "end_time": "2023-03-18T10:23:37.562583",
     "exception": false,
     "start_time": "2023-03-18T10:23:37.538855",
     "status": "completed"
    },
    "tags": []
   },
   "outputs": [],
   "source": [
    "data['Kms driven']=data['Kms driven'].str.split(' ').str.get(0).str.replace(',','')"
   ]
  },
  {
   "cell_type": "code",
   "execution_count": 15,
   "id": "4c77e537",
   "metadata": {
    "execution": {
     "iopub.execute_input": "2023-03-18T10:23:37.585419Z",
     "iopub.status.busy": "2023-03-18T10:23:37.584199Z",
     "iopub.status.idle": "2023-03-18T10:23:37.591835Z",
     "shell.execute_reply": "2023-03-18T10:23:37.590675Z"
    },
    "id": "JotWdIHNSX3Y",
    "papermill": {
     "duration": 0.021436,
     "end_time": "2023-03-18T10:23:37.594171",
     "exception": false,
     "start_time": "2023-03-18T10:23:37.572735",
     "status": "completed"
    },
    "tags": []
   },
   "outputs": [],
   "source": [
    "data=data[data['Kms driven'].str.isnumeric()]"
   ]
  },
  {
   "cell_type": "code",
   "execution_count": 16,
   "id": "d5525047",
   "metadata": {
    "execution": {
     "iopub.execute_input": "2023-03-18T10:23:37.616267Z",
     "iopub.status.busy": "2023-03-18T10:23:37.615826Z",
     "iopub.status.idle": "2023-03-18T10:23:37.622450Z",
     "shell.execute_reply": "2023-03-18T10:23:37.621157Z"
    },
    "id": "zI6eEyXRWv2F",
    "papermill": {
     "duration": 0.020675,
     "end_time": "2023-03-18T10:23:37.624860",
     "exception": false,
     "start_time": "2023-03-18T10:23:37.604185",
     "status": "completed"
    },
    "tags": []
   },
   "outputs": [],
   "source": [
    "data['Kms driven']=data['Kms driven'].astype(int)"
   ]
  },
  {
   "cell_type": "code",
   "execution_count": 17,
   "id": "553eb1ad",
   "metadata": {
    "execution": {
     "iopub.execute_input": "2023-03-18T10:23:37.647265Z",
     "iopub.status.busy": "2023-03-18T10:23:37.646838Z",
     "iopub.status.idle": "2023-03-18T10:23:37.653819Z",
     "shell.execute_reply": "2023-03-18T10:23:37.652670Z"
    },
    "id": "RoYKKX7iSX3Y",
    "papermill": {
     "duration": 0.02149,
     "end_time": "2023-03-18T10:23:37.656400",
     "exception": false,
     "start_time": "2023-03-18T10:23:37.634910",
     "status": "completed"
    },
    "tags": []
   },
   "outputs": [],
   "source": [
    "data=data[~data['Fuel_type'].isna()]"
   ]
  },
  {
   "cell_type": "code",
   "execution_count": 18,
   "id": "0183841f",
   "metadata": {
    "execution": {
     "iopub.execute_input": "2023-03-18T10:23:37.684554Z",
     "iopub.status.busy": "2023-03-18T10:23:37.684092Z",
     "iopub.status.idle": "2023-03-18T10:23:37.693521Z",
     "shell.execute_reply": "2023-03-18T10:23:37.692256Z"
    },
    "id": "3955Ni0XSX3Z",
    "papermill": {
     "duration": 0.026186,
     "end_time": "2023-03-18T10:23:37.696058",
     "exception": false,
     "start_time": "2023-03-18T10:23:37.669872",
     "status": "completed"
    },
    "tags": []
   },
   "outputs": [],
   "source": [
    "data['Name of car']=data['Name of car'].str.split(' ').str.slice(0,3).str.join(' ')"
   ]
  },
  {
   "cell_type": "code",
   "execution_count": 19,
   "id": "dd07075a",
   "metadata": {
    "execution": {
     "iopub.execute_input": "2023-03-18T10:23:37.726046Z",
     "iopub.status.busy": "2023-03-18T10:23:37.725329Z",
     "iopub.status.idle": "2023-03-18T10:23:37.732119Z",
     "shell.execute_reply": "2023-03-18T10:23:37.730964Z"
    },
    "id": "fTauWPYlSX3Z",
    "papermill": {
     "duration": 0.025178,
     "end_time": "2023-03-18T10:23:37.735038",
     "exception": false,
     "start_time": "2023-03-18T10:23:37.709860",
     "status": "completed"
    },
    "tags": []
   },
   "outputs": [],
   "source": [
    "data=data[data['Price']<6000000].reset_index(drop=True)"
   ]
  },
  {
   "cell_type": "code",
   "execution_count": 20,
   "id": "8ce48f3f",
   "metadata": {
    "execution": {
     "iopub.execute_input": "2023-03-18T10:23:37.763729Z",
     "iopub.status.busy": "2023-03-18T10:23:37.762991Z",
     "iopub.status.idle": "2023-03-18T10:23:37.783158Z",
     "shell.execute_reply": "2023-03-18T10:23:37.781968Z"
    },
    "id": "_EA45o32SX3a",
    "papermill": {
     "duration": 0.036848,
     "end_time": "2023-03-18T10:23:37.786478",
     "exception": false,
     "start_time": "2023-03-18T10:23:37.749630",
     "status": "completed"
    },
    "tags": []
   },
   "outputs": [],
   "source": [
    "data.to_csv('Cleanedcar data.csv')"
   ]
  },
  {
   "cell_type": "code",
   "execution_count": 21,
   "id": "63309c56",
   "metadata": {
    "execution": {
     "iopub.execute_input": "2023-03-18T10:23:37.817205Z",
     "iopub.status.busy": "2023-03-18T10:23:37.816449Z",
     "iopub.status.idle": "2023-03-18T10:23:37.828291Z",
     "shell.execute_reply": "2023-03-18T10:23:37.827439Z"
    },
    "id": "Kw54i2U4WT0t",
    "outputId": "17120388-eaba-453f-a0f5-ba3a068be09a",
    "papermill": {
     "duration": 0.030423,
     "end_time": "2023-03-18T10:23:37.831494",
     "exception": false,
     "start_time": "2023-03-18T10:23:37.801071",
     "status": "completed"
    },
    "tags": []
   },
   "outputs": [
    {
     "name": "stdout",
     "output_type": "stream",
     "text": [
      "<class 'pandas.core.frame.DataFrame'>\n",
      "RangeIndex: 815 entries, 0 to 814\n",
      "Data columns (total 6 columns):\n",
      " #   Column        Non-Null Count  Dtype \n",
      "---  ------        --------------  ----- \n",
      " 0   Name of car   815 non-null    object\n",
      " 1   Company name  815 non-null    object\n",
      " 2   Year          815 non-null    int64 \n",
      " 3   Price         815 non-null    int64 \n",
      " 4   Kms driven    815 non-null    int64 \n",
      " 5   Fuel_type     815 non-null    object\n",
      "dtypes: int64(3), object(3)\n",
      "memory usage: 38.3+ KB\n"
     ]
    }
   ],
   "source": [
    "data.info()"
   ]
  },
  {
   "cell_type": "code",
   "execution_count": 22,
   "id": "75dcee3f",
   "metadata": {
    "execution": {
     "iopub.execute_input": "2023-03-18T10:23:37.861328Z",
     "iopub.status.busy": "2023-03-18T10:23:37.860894Z",
     "iopub.status.idle": "2023-03-18T10:23:37.898235Z",
     "shell.execute_reply": "2023-03-18T10:23:37.896867Z"
    },
    "id": "bKZ9Y8C9XN9y",
    "outputId": "39cdf970-2d7f-4c7b-aa60-b61ebcd5f04b",
    "papermill": {
     "duration": 0.063623,
     "end_time": "2023-03-18T10:23:37.909307",
     "exception": false,
     "start_time": "2023-03-18T10:23:37.845684",
     "status": "completed"
    },
    "tags": []
   },
   "outputs": [
    {
     "data": {
      "text/html": [
       "<div>\n",
       "<style scoped>\n",
       "    .dataframe tbody tr th:only-of-type {\n",
       "        vertical-align: middle;\n",
       "    }\n",
       "\n",
       "    .dataframe tbody tr th {\n",
       "        vertical-align: top;\n",
       "    }\n",
       "\n",
       "    .dataframe thead th {\n",
       "        text-align: right;\n",
       "    }\n",
       "</style>\n",
       "<table border=\"1\" class=\"dataframe\">\n",
       "  <thead>\n",
       "    <tr style=\"text-align: right;\">\n",
       "      <th></th>\n",
       "      <th>Name of car</th>\n",
       "      <th>Company name</th>\n",
       "      <th>Year</th>\n",
       "      <th>Price</th>\n",
       "      <th>Kms driven</th>\n",
       "      <th>Fuel_type</th>\n",
       "    </tr>\n",
       "  </thead>\n",
       "  <tbody>\n",
       "    <tr>\n",
       "      <th>count</th>\n",
       "      <td>815</td>\n",
       "      <td>815</td>\n",
       "      <td>815.000000</td>\n",
       "      <td>8.150000e+02</td>\n",
       "      <td>815.000000</td>\n",
       "      <td>815</td>\n",
       "    </tr>\n",
       "    <tr>\n",
       "      <th>unique</th>\n",
       "      <td>254</td>\n",
       "      <td>25</td>\n",
       "      <td>NaN</td>\n",
       "      <td>NaN</td>\n",
       "      <td>NaN</td>\n",
       "      <td>3</td>\n",
       "    </tr>\n",
       "    <tr>\n",
       "      <th>top</th>\n",
       "      <td>Maruti Suzuki Swift</td>\n",
       "      <td>Maruti</td>\n",
       "      <td>NaN</td>\n",
       "      <td>NaN</td>\n",
       "      <td>NaN</td>\n",
       "      <td>Petrol</td>\n",
       "    </tr>\n",
       "    <tr>\n",
       "      <th>freq</th>\n",
       "      <td>51</td>\n",
       "      <td>221</td>\n",
       "      <td>NaN</td>\n",
       "      <td>NaN</td>\n",
       "      <td>NaN</td>\n",
       "      <td>428</td>\n",
       "    </tr>\n",
       "    <tr>\n",
       "      <th>mean</th>\n",
       "      <td>NaN</td>\n",
       "      <td>NaN</td>\n",
       "      <td>2012.442945</td>\n",
       "      <td>4.017933e+05</td>\n",
       "      <td>46277.096933</td>\n",
       "      <td>NaN</td>\n",
       "    </tr>\n",
       "    <tr>\n",
       "      <th>std</th>\n",
       "      <td>NaN</td>\n",
       "      <td>NaN</td>\n",
       "      <td>4.005079</td>\n",
       "      <td>3.815888e+05</td>\n",
       "      <td>34318.459638</td>\n",
       "      <td>NaN</td>\n",
       "    </tr>\n",
       "    <tr>\n",
       "      <th>min</th>\n",
       "      <td>NaN</td>\n",
       "      <td>NaN</td>\n",
       "      <td>1995.000000</td>\n",
       "      <td>3.000000e+04</td>\n",
       "      <td>0.000000</td>\n",
       "      <td>NaN</td>\n",
       "    </tr>\n",
       "    <tr>\n",
       "      <th>25%</th>\n",
       "      <td>NaN</td>\n",
       "      <td>NaN</td>\n",
       "      <td>2010.000000</td>\n",
       "      <td>1.750000e+05</td>\n",
       "      <td>27000.000000</td>\n",
       "      <td>NaN</td>\n",
       "    </tr>\n",
       "    <tr>\n",
       "      <th>50%</th>\n",
       "      <td>NaN</td>\n",
       "      <td>NaN</td>\n",
       "      <td>2013.000000</td>\n",
       "      <td>2.999990e+05</td>\n",
       "      <td>41000.000000</td>\n",
       "      <td>NaN</td>\n",
       "    </tr>\n",
       "    <tr>\n",
       "      <th>75%</th>\n",
       "      <td>NaN</td>\n",
       "      <td>NaN</td>\n",
       "      <td>2015.000000</td>\n",
       "      <td>4.900000e+05</td>\n",
       "      <td>56879.000000</td>\n",
       "      <td>NaN</td>\n",
       "    </tr>\n",
       "    <tr>\n",
       "      <th>max</th>\n",
       "      <td>NaN</td>\n",
       "      <td>NaN</td>\n",
       "      <td>2019.000000</td>\n",
       "      <td>3.100000e+06</td>\n",
       "      <td>400000.000000</td>\n",
       "      <td>NaN</td>\n",
       "    </tr>\n",
       "  </tbody>\n",
       "</table>\n",
       "</div>"
      ],
      "text/plain": [
       "                Name of car Company name         Year         Price  \\\n",
       "count                   815          815   815.000000  8.150000e+02   \n",
       "unique                  254           25          NaN           NaN   \n",
       "top     Maruti Suzuki Swift       Maruti          NaN           NaN   \n",
       "freq                     51          221          NaN           NaN   \n",
       "mean                    NaN          NaN  2012.442945  4.017933e+05   \n",
       "std                     NaN          NaN     4.005079  3.815888e+05   \n",
       "min                     NaN          NaN  1995.000000  3.000000e+04   \n",
       "25%                     NaN          NaN  2010.000000  1.750000e+05   \n",
       "50%                     NaN          NaN  2013.000000  2.999990e+05   \n",
       "75%                     NaN          NaN  2015.000000  4.900000e+05   \n",
       "max                     NaN          NaN  2019.000000  3.100000e+06   \n",
       "\n",
       "           Kms driven Fuel_type  \n",
       "count      815.000000       815  \n",
       "unique            NaN         3  \n",
       "top               NaN    Petrol  \n",
       "freq              NaN       428  \n",
       "mean     46277.096933       NaN  \n",
       "std      34318.459638       NaN  \n",
       "min          0.000000       NaN  \n",
       "25%      27000.000000       NaN  \n",
       "50%      41000.000000       NaN  \n",
       "75%      56879.000000       NaN  \n",
       "max     400000.000000       NaN  "
      ]
     },
     "execution_count": 22,
     "metadata": {},
     "output_type": "execute_result"
    }
   ],
   "source": [
    "data.describe(include=\"all\")"
   ]
  },
  {
   "cell_type": "code",
   "execution_count": 23,
   "id": "463e7c69",
   "metadata": {
    "execution": {
     "iopub.execute_input": "2023-03-18T10:23:37.933555Z",
     "iopub.status.busy": "2023-03-18T10:23:37.932624Z",
     "iopub.status.idle": "2023-03-18T10:23:38.907770Z",
     "shell.execute_reply": "2023-03-18T10:23:38.906823Z"
    },
    "id": "z0EdPR7CXR_D",
    "outputId": "18dc7371-2991-48cf-ef32-925491cbe1cd",
    "papermill": {
     "duration": 0.990374,
     "end_time": "2023-03-18T10:23:38.910577",
     "exception": false,
     "start_time": "2023-03-18T10:23:37.920203",
     "status": "completed"
    },
    "tags": []
   },
   "outputs": [
    {
     "data": {
      "image/png": "[encoded data removed]",
      "text/plain": [
       "<Figure size 1200x500 with 1 Axes>"
      ]
     },
     "metadata": {},
     "output_type": "display_data"
    }
   ],
   "source": [
    "## Relationshio of company with Price\n",
    "\n",
    "import matplotlib.pyplot as plt\n",
    "plt.subplots(figsize=(12,5))\n",
    "ax=sns.barplot(x='Company name',y='Price',data=data)\n",
    "ax.set_xticklabels(ax.get_xticklabels(),rotation=40,ha='right')\n",
    "plt.show()"
   ]
  },
  {
   "cell_type": "code",
   "execution_count": 24,
   "id": "824ac72e",
   "metadata": {
    "execution": {
     "iopub.execute_input": "2023-03-18T10:23:38.935465Z",
     "iopub.status.busy": "2023-03-18T10:23:38.934676Z",
     "iopub.status.idle": "2023-03-18T10:23:39.761556Z",
     "shell.execute_reply": "2023-03-18T10:23:39.760202Z"
    },
    "id": "8nqmZEAoYFLA",
    "outputId": "892edf72-d483-4d7f-941f-5d43dc592171",
    "papermill": {
     "duration": 0.84323,
     "end_time": "2023-03-18T10:23:39.765260",
     "exception": false,
     "start_time": "2023-03-18T10:23:38.922030",
     "status": "completed"
    },
    "tags": []
   },
   "outputs": [
    {
     "data": {
      "image/png": "[encoded data removed]",
      "text/plain": [
       "<Figure size 1200x500 with 1 Axes>"
      ]
     },
     "metadata": {},
     "output_type": "display_data"
    }
   ],
   "source": [
    "## Relationship of year with Price\n",
    "\n",
    "plt.subplots(figsize=(12,5))\n",
    "ax=sns.barplot(x='Year',y='Price',data=data)\n",
    "ax.set_xticklabels(ax.get_xticklabels(),rotation=40,ha='right')\n",
    "plt.show()\n"
   ]
  },
  {
   "cell_type": "code",
   "execution_count": 25,
   "id": "d237470e",
   "metadata": {
    "execution": {
     "iopub.execute_input": "2023-03-18T10:23:39.791627Z",
     "iopub.status.busy": "2023-03-18T10:23:39.791086Z",
     "iopub.status.idle": "2023-03-18T10:23:40.135658Z",
     "shell.execute_reply": "2023-03-18T10:23:40.134422Z"
    },
    "id": "qUXytn7JYpsw",
    "outputId": "9142e8f8-61d3-4477-870e-f59022889e31",
    "papermill": {
     "duration": 0.360359,
     "end_time": "2023-03-18T10:23:40.138270",
     "exception": false,
     "start_time": "2023-03-18T10:23:39.777911",
     "status": "completed"
    },
    "tags": []
   },
   "outputs": [
    {
     "data": {
      "text/plain": [
       "<seaborn.axisgrid.FacetGrid at 0x7fe8d1196970>"
      ]
     },
     "execution_count": 25,
     "metadata": {},
     "output_type": "execute_result"
    }
   ],
   "source": [
    "## Relationship of kms_driven with price\n",
    "\n",
    "sns.relplot(x='Kms driven',y='Price',data=data,height=5,aspect=1.5)"
   ]
  },
  {
   "cell_type": "code",
   "execution_count": 22,
   "id": "6363d964",
   "metadata": {
    "execution": {
     "iopub.execute_input": "2023-03-18T10:23:40.165547Z",
     "iopub.status.busy": "2023-03-18T10:23:40.164461Z",
     "iopub.status.idle": "2023-03-18T10:23:40.391758Z",
     "shell.execute_reply": "2023-03-18T10:23:40.390462Z"
    },
    "id": "ONEa86mKY43J",
    "outputId": "b78cba10-f276-4ee3-af22-771e4e040383",
    "papermill": {
     "duration": 0.243672,
     "end_time": "2023-03-18T10:23:40.394523",
     "exception": false,
     "start_time": "2023-03-18T10:23:40.150851",
     "status": "completed"
    },
    "tags": []
   },
   "outputs": [
    {
     "data": {
      "text/plain": [
       "<AxesSubplot:xlabel='Fuel_type', ylabel='Price'>"
      ]
     },
     "execution_count": 22,
     "metadata": {},
     "output_type": "execute_result"
    },
    {
     "data": {
      "image/png": "[encoded data removed]",
      "text/plain": [
       "<Figure size 1008x504 with 1 Axes>"
      ]
     },
     "metadata": {
      "needs_background": "light"
     },
     "output_type": "display_data"
    }
   ],
   "source": [
    "## relationship of fuel type with price\n",
    "\n",
    "plt.subplots(figsize=(14,7))\n",
    "sns.boxplot(x='Fuel_type',y='Price',data=data)"
   ]
  },
  {
   "cell_type": "code",
   "execution_count": 23,
   "id": "cb89913f",
   "metadata": {
    "execution": {
     "iopub.execute_input": "2023-03-18T10:23:40.423563Z",
     "iopub.status.busy": "2023-03-18T10:23:40.422404Z",
     "iopub.status.idle": "2023-03-18T10:23:42.258553Z",
     "shell.execute_reply": "2023-03-18T10:23:42.257387Z"
    },
    "id": "ofuyHd8dZEzE",
    "outputId": "87458a46-b1c3-4a87-a599-89d19a9aa142",
    "papermill": {
     "duration": 1.853413,
     "end_time": "2023-03-18T10:23:42.261545",
     "exception": false,
     "start_time": "2023-03-18T10:23:40.408132",
     "status": "completed"
    },
    "tags": []
   },
   "outputs": [
    {
     "data": {
      "image/png": "[encoded data removed]",
      "text/plain": [
       "<Figure size 864x360 with 1 Axes>"
      ]
     },
     "metadata": {
      "needs_background": "light"
     },
     "output_type": "display_data"
    }
   ],
   "source": [
    "##Relationship of price with year and company \n",
    "\n",
    "plt.subplots(figsize=(12,5))\n",
    "ax=sns.barplot(x='Company name',y='Price',data=data,hue='Fuel_type')\n",
    "ax.set_xticklabels(ax.get_xticklabels(),rotation=40,ha='right')\n",
    "plt.show()\n"
   ]
  },
  {
   "cell_type": "code",
   "execution_count": 26,
   "id": "bf27e512",
   "metadata": {
    "execution": {
     "iopub.execute_input": "2023-03-18T10:23:42.291049Z",
     "iopub.status.busy": "2023-03-18T10:23:42.290641Z",
     "iopub.status.idle": "2023-03-18T10:23:42.297282Z",
     "shell.execute_reply": "2023-03-18T10:23:42.296208Z"
    },
    "id": "z9K1l3iwZTxT",
    "outputId": "3149cf72-563c-4968-8e13-9a7de628fcd9",
    "papermill": {
     "duration": 0.024097,
     "end_time": "2023-03-18T10:23:42.299642",
     "exception": false,
     "start_time": "2023-03-18T10:23:42.275545",
     "status": "completed"
    },
    "tags": []
   },
   "outputs": [],
   "source": [
    "X=data[['Name of car','Company name','Year','Kms driven','Fuel_type']]\n",
    "y=data['Price']"
   ]
  },
  {
   "cell_type": "code",
   "execution_count": 27,
   "id": "8cde93dc",
   "metadata": {
    "execution": {
     "iopub.execute_input": "2023-03-18T10:23:42.329616Z",
     "iopub.status.busy": "2023-03-18T10:23:42.329168Z",
     "iopub.status.idle": "2023-03-18T10:23:42.338152Z",
     "shell.execute_reply": "2023-03-18T10:23:42.336925Z"
    },
    "id": "Z_j9HxvtSX3a",
    "papermill": {
     "duration": 0.026889,
     "end_time": "2023-03-18T10:23:42.340559",
     "exception": false,
     "start_time": "2023-03-18T10:23:42.313670",
     "status": "completed"
    },
    "tags": []
   },
   "outputs": [],
   "source": [
    "x_train, x_test, y_train, y_test= train_test_split(X,y, test_size=0.2)"
   ]
  },
  {
   "cell_type": "code",
   "execution_count": 26,
   "id": "a8d3ad9d",
   "metadata": {
    "execution": {
     "iopub.execute_input": "2023-03-18T10:23:42.371582Z",
     "iopub.status.busy": "2023-03-18T10:23:42.370553Z",
     "iopub.status.idle": "2023-03-18T10:23:42.376270Z",
     "shell.execute_reply": "2023-03-18T10:23:42.374995Z"
    },
    "id": "Pd9k5ZK7SX3a",
    "papermill": {
     "duration": 0.023989,
     "end_time": "2023-03-18T10:23:42.379061",
     "exception": false,
     "start_time": "2023-03-18T10:23:42.355072",
     "status": "completed"
    },
    "tags": []
   },
   "outputs": [],
   "source": [
    "# x=data.drop(['Price'],axis=1)\n",
    "# y=data['Price']"
   ]
  },
  {
   "cell_type": "code",
   "execution_count": 28,
   "id": "188c1ee1",
   "metadata": {
    "execution": {
     "iopub.execute_input": "2023-03-18T10:23:42.409476Z",
     "iopub.status.busy": "2023-03-18T10:23:42.408386Z",
     "iopub.status.idle": "2023-03-18T10:23:42.422386Z",
     "shell.execute_reply": "2023-03-18T10:23:42.421363Z"
    },
    "id": "qORB-RE8SX3b",
    "outputId": "c40febc1-b624-4c49-80dc-f30fd75d46a7",
    "papermill": {
     "duration": 0.031765,
     "end_time": "2023-03-18T10:23:42.424845",
     "exception": false,
     "start_time": "2023-03-18T10:23:42.393080",
     "status": "completed"
    },
    "tags": []
   },
   "outputs": [
    {
     "data": {
      "text/plain": [
       "OneHotEncoder()"
      ]
     },
     "execution_count": 28,
     "metadata": {},
     "output_type": "execute_result"
    }
   ],
   "source": [
    "ohn=OneHotEncoder()\n",
    "ohn.fit(X[['Name of car','Company name','Fuel_type']])"
   ]
  },
  {
   "cell_type": "code",
   "execution_count": 29,
   "id": "2fe0e9b2",
   "metadata": {
    "execution": {
     "iopub.execute_input": "2023-03-18T10:23:42.454771Z",
     "iopub.status.busy": "2023-03-18T10:23:42.454327Z",
     "iopub.status.idle": "2023-03-18T10:23:42.460337Z",
     "shell.execute_reply": "2023-03-18T10:23:42.459081Z"
    },
    "id": "_VRb0nCYSX3c",
    "papermill": {
     "duration": 0.023847,
     "end_time": "2023-03-18T10:23:42.462823",
     "exception": false,
     "start_time": "2023-03-18T10:23:42.438976",
     "status": "completed"
    },
    "tags": []
   },
   "outputs": [],
   "source": [
    "column_trans=make_column_transformer((OneHotEncoder(categories=ohn.categories_),['Name of car','Company name','Fuel_type']),remainder=\"passthrough\")"
   ]
  },
  {
   "cell_type": "code",
   "execution_count": 30,
   "id": "f23192da",
   "metadata": {
    "execution": {
     "iopub.execute_input": "2023-03-18T10:23:42.493065Z",
     "iopub.status.busy": "2023-03-18T10:23:42.492067Z",
     "iopub.status.idle": "2023-03-18T10:23:42.496985Z",
     "shell.execute_reply": "2023-03-18T10:23:42.496049Z"
    },
    "id": "4mLE23yXSX3c",
    "papermill": {
     "duration": 0.02223,
     "end_time": "2023-03-18T10:23:42.499140",
     "exception": false,
     "start_time": "2023-03-18T10:23:42.476910",
     "status": "completed"
    },
    "tags": []
   },
   "outputs": [],
   "source": [
    "lin_reg_model=LinearRegression()\n",
    "pipe=make_pipeline(column_trans,lin_reg_model)"
   ]
  },
  {
   "cell_type": "code",
   "execution_count": 31,
   "id": "37a1fc37",
   "metadata": {
    "execution": {
     "iopub.execute_input": "2023-03-18T10:23:42.529344Z",
     "iopub.status.busy": "2023-03-18T10:23:42.528566Z",
     "iopub.status.idle": "2023-03-18T10:23:42.626449Z",
     "shell.execute_reply": "2023-03-18T10:23:42.625441Z"
    },
    "id": "00G5Hde_SX3e",
    "outputId": "cca1c975-8bd0-4ee7-8de8-3dc2a1857729",
    "papermill": {
     "duration": 0.115912,
     "end_time": "2023-03-18T10:23:42.628891",
     "exception": false,
     "start_time": "2023-03-18T10:23:42.512979",
     "status": "completed"
    },
    "tags": []
   },
   "outputs": [
    {
     "data": {
      "text/plain": [
       "Pipeline(steps=[('columntransformer',\n",
       "                 ColumnTransformer(remainder='passthrough',\n",
       "                                   transformers=[('onehotencoder',\n",
       "                                                  OneHotEncoder(categories=[array(['Audi A3 Cabriolet', 'Audi A4 1.8', 'Audi A4 2.0', 'Audi A6 2.0',\n",
       "       'Audi A8', 'Audi Q3 2.0', 'Audi Q5 2.0', 'Audi Q7', 'BMW 3 Series',\n",
       "       'BMW 5 Series', 'BMW 7 Series', 'BMW X1', 'BMW X1 sDrive20d',\n",
       "       'BMW X1 xDrive20d', 'Chevrolet Beat', 'Chevrolet Beat...\n",
       "                                                                            array(['Audi', 'BMW', 'Chevrolet', 'Datsun', 'Fiat', 'Force', 'Ford',\n",
       "       'Hindustan', 'Honda', 'Hyundai', 'Jaguar', 'Jeep', 'Land',\n",
       "       'Mahindra', 'Maruti', 'Mercedes', 'Mini', 'Mitsubishi', 'Nissan',\n",
       "       'Renault', 'Skoda', 'Tata', 'Toyota', 'Volkswagen', 'Volvo'],\n",
       "      dtype=object),\n",
       "                                                                            array(['Diesel', 'LPG', 'Petrol'], dtype=object)]),\n",
       "                                                  ['Name of car',\n",
       "                                                   'Company name',\n",
       "                                                   'Fuel_type'])])),\n",
       "                ('linearregression', LinearRegression())])"
      ]
     },
     "execution_count": 31,
     "metadata": {},
     "output_type": "execute_result"
    }
   ],
   "source": [
    "pipe.fit(x_train,y_train)"
   ]
  },
  {
   "cell_type": "code",
   "execution_count": 32,
   "id": "536bd4de",
   "metadata": {
    "execution": {
     "iopub.execute_input": "2023-03-18T10:23:42.659536Z",
     "iopub.status.busy": "2023-03-18T10:23:42.658815Z",
     "iopub.status.idle": "2023-03-18T10:23:42.671163Z",
     "shell.execute_reply": "2023-03-18T10:23:42.669869Z"
    },
    "id": "AoiNv5hRSX3e",
    "papermill": {
     "duration": 0.031072,
     "end_time": "2023-03-18T10:23:42.674127",
     "exception": false,
     "start_time": "2023-03-18T10:23:42.643055",
     "status": "completed"
    },
    "tags": []
   },
   "outputs": [],
   "source": [
    "y_pred=pipe.predict(x_test)"
   ]
  },
  {
   "cell_type": "code",
   "execution_count": 33,
   "id": "11f0b626",
   "metadata": {
    "execution": {
     "iopub.execute_input": "2023-03-18T10:23:42.704092Z",
     "iopub.status.busy": "2023-03-18T10:23:42.703666Z",
     "iopub.status.idle": "2023-03-18T10:23:42.711297Z",
     "shell.execute_reply": "2023-03-18T10:23:42.710432Z"
    },
    "id": "v8rOHiXSSX3f",
    "papermill": {
     "duration": 0.025171,
     "end_time": "2023-03-18T10:23:42.713469",
     "exception": false,
     "start_time": "2023-03-18T10:23:42.688298",
     "status": "completed"
    },
    "tags": []
   },
   "outputs": [
    {
     "data": {
      "text/plain": [
       "0.6691562168490146"
      ]
     },
     "execution_count": 33,
     "metadata": {},
     "output_type": "execute_result"
    }
   ],
   "source": [
    "from sklearn.metrics import r2_score\n",
    "r2_score(y_test,y_pred)"
   ]
  },
  {
   "cell_type": "code",
   "execution_count": 34,
   "id": "598d6644",
   "metadata": {
    "execution": {
     "iopub.execute_input": "2023-03-18T10:23:42.744628Z",
     "iopub.status.busy": "2023-03-18T10:23:42.743749Z",
     "iopub.status.idle": "2023-03-18T10:24:08.610788Z",
     "shell.execute_reply": "2023-03-18T10:24:08.609541Z"
    },
    "id": "9jgr9jGVSX3f",
    "papermill": {
     "duration": 25.885708,
     "end_time": "2023-03-18T10:24:08.613877",
     "exception": false,
     "start_time": "2023-03-18T10:23:42.728169",
     "status": "completed"
    },
    "tags": []
   },
   "outputs": [],
   "source": [
    "scores=[]\n",
    "for i in range(1000):\n",
    "    x_train,x_test,y_train,y_test=train_test_split(X,y,test_size=0.2,random_state=i)\n",
    "    lin_reg_model=LinearRegression()\n",
    "    pipe=make_pipeline(column_trans,lin_reg_model)\n",
    "    pipe.fit(x_train,y_train)\n",
    "    y_pred=pipe.predict(x_test)\n",
    "    scores.append(r2_score)"
   ]
  },
  {
   "cell_type": "code",
   "execution_count": 35,
   "id": "995fcb34",
   "metadata": {
    "execution": {
     "iopub.execute_input": "2023-03-18T10:24:08.647234Z",
     "iopub.status.busy": "2023-03-18T10:24:08.646332Z",
     "iopub.status.idle": "2023-03-18T10:24:08.696857Z",
     "shell.execute_reply": "2023-03-18T10:24:08.695189Z"
    },
    "id": "HV7xeAW9SX3g",
    "outputId": "797a2d55-85a6-4dc4-b7b3-896de510439a",
    "papermill": {
     "duration": 0.072386,
     "end_time": "2023-03-18T10:24:08.700785",
     "exception": false,
     "start_time": "2023-03-18T10:24:08.628399",
     "status": "completed"
    },
    "tags": []
   },
   "outputs": [
    {
     "data": {
      "text/plain": [
       "0.6352311333149598"
      ]
     },
     "execution_count": 35,
     "metadata": {},
     "output_type": "execute_result"
    }
   ],
   "source": [
    "x_train,x_test,y_train,y_test=train_test_split(X,y,test_size=0.2,random_state=i)\n",
    "lin_reg_model=LinearRegression()\n",
    "pipe=make_pipeline(column_trans,lin_reg_model)\n",
    "pipe.fit(x_train,y_train)\n",
    "y_pred=pipe.predict(x_test)\n",
    "r2_score(y_test,y_pred)"
   ]
  },
  {
   "cell_type": "code",
   "execution_count": 35,
   "id": "48a6986e",
   "metadata": {
    "execution": {
     "iopub.execute_input": "2023-03-18T10:24:08.738689Z",
     "iopub.status.busy": "2023-03-18T10:24:08.737883Z",
     "iopub.status.idle": "2023-03-18T10:24:08.744536Z",
     "shell.execute_reply": "2023-03-18T10:24:08.743224Z"
    },
    "id": "9haA6CvLSX3h",
    "papermill": {
     "duration": 0.029027,
     "end_time": "2023-03-18T10:24:08.747084",
     "exception": false,
     "start_time": "2023-03-18T10:24:08.718057",
     "status": "completed"
    },
    "tags": []
   },
   "outputs": [],
   "source": [
    "pickle.dump(pipe,open('LinearRegressionModel.pkl','wb'))"
   ]
  },
  {
   "cell_type": "code",
   "execution_count": 36,
   "id": "4988d582",
   "metadata": {
    "execution": {
     "iopub.execute_input": "2023-03-18T10:24:08.783445Z",
     "iopub.status.busy": "2023-03-18T10:24:08.782601Z",
     "iopub.status.idle": "2023-03-18T10:24:08.801920Z",
     "shell.execute_reply": "2023-03-18T10:24:08.800684Z"
    },
    "id": "Ecl8qbXRSX3h",
    "outputId": "249dc6a2-c9c6-4505-805f-05b4ccb84183",
    "papermill": {
     "duration": 0.0408,
     "end_time": "2023-03-18T10:24:08.805348",
     "exception": false,
     "start_time": "2023-03-18T10:24:08.764548",
     "status": "completed"
    },
    "tags": []
   },
   "outputs": [
    {
     "data": {
      "text/plain": [
       "array([406922.49647768])"
      ]
     },
     "execution_count": 36,
     "metadata": {},
     "output_type": "execute_result"
    }
   ],
   "source": [
    "pipe.predict(pd.DataFrame([['Maruti Suzuki Swift','Maruti',2019,100,'Petrol']],columns=['Name of car','Company name','Year','Kms driven','Fuel_type']))"
   ]
  },
  {
   "cell_type": "code",
   "execution_count": 37,
   "id": "f0cc64f0",
   "metadata": {
    "execution": {
     "iopub.execute_input": "2023-03-18T10:24:08.837334Z",
     "iopub.status.busy": "2023-03-18T10:24:08.836453Z",
     "iopub.status.idle": "2023-03-18T10:24:08.846312Z",
     "shell.execute_reply": "2023-03-18T10:24:08.845008Z"
    },
    "id": "Zh4gliLHSX3i",
    "outputId": "7bb82ce8-6b01-4d5b-aefa-2dc41e8dc299",
    "papermill": {
     "duration": 0.028738,
     "end_time": "2023-03-18T10:24:08.848828",
     "exception": false,
     "start_time": "2023-03-18T10:24:08.820090",
     "status": "completed"
    },
    "tags": []
   },
   "outputs": [
    {
     "data": {
      "text/plain": [
       "array(['Audi A3 Cabriolet', 'Audi A4 1.8', 'Audi A4 2.0', 'Audi A6 2.0',\n",
       "       'Audi A8', 'Audi Q3 2.0', 'Audi Q5 2.0', 'Audi Q7', 'BMW 3 Series',\n",
       "       'BMW 5 Series', 'BMW 7 Series', 'BMW X1', 'BMW X1 sDrive20d',\n",
       "       'BMW X1 xDrive20d', 'Chevrolet Beat', 'Chevrolet Beat Diesel',\n",
       "       'Chevrolet Beat LS', 'Chevrolet Beat LT', 'Chevrolet Beat PS',\n",
       "       'Chevrolet Cruze LTZ', 'Chevrolet Enjoy', 'Chevrolet Enjoy 1.4',\n",
       "       'Chevrolet Sail 1.2', 'Chevrolet Sail UVA', 'Chevrolet Spark',\n",
       "       'Chevrolet Spark 1.0', 'Chevrolet Spark LS', 'Chevrolet Spark LT',\n",
       "       'Chevrolet Tavera LS', 'Chevrolet Tavera Neo', 'Datsun GO T',\n",
       "       'Datsun Go Plus', 'Datsun Redi GO', 'Fiat Linea Emotion',\n",
       "       'Fiat Petra ELX', 'Fiat Punto Emotion', 'Force Motors Force',\n",
       "       'Force Motors One', 'Ford EcoSport', 'Ford EcoSport Ambiente',\n",
       "       'Ford EcoSport Titanium', 'Ford EcoSport Trend',\n",
       "       'Ford Endeavor 4x4', 'Ford Fiesta', 'Ford Fiesta SXi', 'Ford Figo',\n",
       "       'Ford Figo Diesel', 'Ford Figo Duratorq', 'Ford Figo Petrol',\n",
       "       'Ford Fusion 1.4', 'Ford Ikon 1.3', 'Ford Ikon 1.6',\n",
       "       'Hindustan Motors Ambassador', 'Honda Accord', 'Honda Amaze',\n",
       "       'Honda Amaze 1.2', 'Honda Amaze 1.5', 'Honda Brio', 'Honda Brio V',\n",
       "       'Honda Brio VX', 'Honda City', 'Honda City 1.5', 'Honda City SV',\n",
       "       'Honda City VX', 'Honda City ZX', 'Honda Jazz S', 'Honda Jazz VX',\n",
       "       'Honda Mobilio', 'Honda Mobilio S', 'Honda WR V', 'Hyundai Accent',\n",
       "       'Hyundai Accent Executive', 'Hyundai Accent GLE',\n",
       "       'Hyundai Accent GLX', 'Hyundai Creta', 'Hyundai Creta 1.6',\n",
       "       'Hyundai Elantra 1.8', 'Hyundai Elantra SX', 'Hyundai Elite i20',\n",
       "       'Hyundai Eon', 'Hyundai Eon D', 'Hyundai Eon Era',\n",
       "       'Hyundai Eon Magna', 'Hyundai Eon Sportz', 'Hyundai Fluidic Verna',\n",
       "       'Hyundai Getz', 'Hyundai Getz GLE', 'Hyundai Getz Prime',\n",
       "       'Hyundai Grand i10', 'Hyundai Santro', 'Hyundai Santro AE',\n",
       "       'Hyundai Santro Xing', 'Hyundai Sonata Transform', 'Hyundai Verna',\n",
       "       'Hyundai Verna 1.4', 'Hyundai Verna 1.6', 'Hyundai Verna Fluidic',\n",
       "       'Hyundai Verna Transform', 'Hyundai Verna VGT',\n",
       "       'Hyundai Xcent Base', 'Hyundai Xcent SX', 'Hyundai i10',\n",
       "       'Hyundai i10 Era', 'Hyundai i10 Magna', 'Hyundai i10 Sportz',\n",
       "       'Hyundai i20', 'Hyundai i20 Active', 'Hyundai i20 Asta',\n",
       "       'Hyundai i20 Magna', 'Hyundai i20 Select', 'Hyundai i20 Sportz',\n",
       "       'Jaguar XE XE', 'Jaguar XF 2.2', 'Jeep Wrangler Unlimited',\n",
       "       'Land Rover Freelander', 'Mahindra Bolero DI',\n",
       "       'Mahindra Bolero Power', 'Mahindra Bolero SLE',\n",
       "       'Mahindra Jeep CL550', 'Mahindra Jeep MM', 'Mahindra KUV100',\n",
       "       'Mahindra KUV100 K8', 'Mahindra Logan', 'Mahindra Logan Diesel',\n",
       "       'Mahindra Quanto C4', 'Mahindra Quanto C8', 'Mahindra Scorpio',\n",
       "       'Mahindra Scorpio 2.6', 'Mahindra Scorpio LX',\n",
       "       'Mahindra Scorpio S10', 'Mahindra Scorpio S4',\n",
       "       'Mahindra Scorpio SLE', 'Mahindra Scorpio SLX',\n",
       "       'Mahindra Scorpio VLX', 'Mahindra Scorpio Vlx',\n",
       "       'Mahindra Scorpio W', 'Mahindra TUV300 T4', 'Mahindra TUV300 T8',\n",
       "       'Mahindra Thar CRDe', 'Mahindra XUV500', 'Mahindra XUV500 W10',\n",
       "       'Mahindra XUV500 W6', 'Mahindra XUV500 W8', 'Mahindra Xylo D2',\n",
       "       'Mahindra Xylo E4', 'Mahindra Xylo E8', 'Maruti Suzuki 800',\n",
       "       'Maruti Suzuki A', 'Maruti Suzuki Alto', 'Maruti Suzuki Baleno',\n",
       "       'Maruti Suzuki Celerio', 'Maruti Suzuki Ciaz',\n",
       "       'Maruti Suzuki Dzire', 'Maruti Suzuki Eeco',\n",
       "       'Maruti Suzuki Ertiga', 'Maruti Suzuki Esteem',\n",
       "       'Maruti Suzuki Estilo', 'Maruti Suzuki Maruti',\n",
       "       'Maruti Suzuki Omni', 'Maruti Suzuki Ritz', 'Maruti Suzuki S',\n",
       "       'Maruti Suzuki SX4', 'Maruti Suzuki Stingray',\n",
       "       'Maruti Suzuki Swift', 'Maruti Suzuki Versa',\n",
       "       'Maruti Suzuki Vitara', 'Maruti Suzuki Wagon', 'Maruti Suzuki Zen',\n",
       "       'Mercedes Benz A', 'Mercedes Benz B', 'Mercedes Benz C',\n",
       "       'Mercedes Benz GLA', 'Mini Cooper S', 'Mitsubishi Lancer 1.8',\n",
       "       'Mitsubishi Pajero Sport', 'Nissan Micra XL', 'Nissan Micra XV',\n",
       "       'Nissan Sunny', 'Nissan Sunny XL', 'Nissan Terrano XL',\n",
       "       'Nissan X Trail', 'Renault Duster', 'Renault Duster 110',\n",
       "       'Renault Duster 110PS', 'Renault Duster 85', 'Renault Duster 85PS',\n",
       "       'Renault Duster RxL', 'Renault Kwid', 'Renault Kwid 1.0',\n",
       "       'Renault Kwid RXT', 'Renault Lodgy 85', 'Renault Scala RxL',\n",
       "       'Skoda Fabia', 'Skoda Fabia 1.2L', 'Skoda Fabia Classic',\n",
       "       'Skoda Laura', 'Skoda Octavia Classic', 'Skoda Rapid Elegance',\n",
       "       'Skoda Superb 1.8', 'Skoda Yeti Ambition', 'Tata Aria Pleasure',\n",
       "       'Tata Bolt XM', 'Tata Indica', 'Tata Indica V2', 'Tata Indica eV2',\n",
       "       'Tata Indigo CS', 'Tata Indigo LS', 'Tata Indigo LX',\n",
       "       'Tata Indigo Marina', 'Tata Indigo eCS', 'Tata Manza',\n",
       "       'Tata Manza Aqua', 'Tata Manza Aura', 'Tata Manza ELAN',\n",
       "       'Tata Nano', 'Tata Nano Cx', 'Tata Nano GenX', 'Tata Nano LX',\n",
       "       'Tata Nano Lx', 'Tata Sumo Gold', 'Tata Sumo Grande',\n",
       "       'Tata Sumo Victa', 'Tata Tiago Revotorq', 'Tata Tiago Revotron',\n",
       "       'Tata Tigor Revotron', 'Tata Venture EX', 'Tata Vista Quadrajet',\n",
       "       'Tata Zest Quadrajet', 'Tata Zest XE', 'Tata Zest XM',\n",
       "       'Toyota Corolla', 'Toyota Corolla Altis', 'Toyota Corolla H2',\n",
       "       'Toyota Etios', 'Toyota Etios G', 'Toyota Etios GD',\n",
       "       'Toyota Etios Liva', 'Toyota Fortuner', 'Toyota Fortuner 3.0',\n",
       "       'Toyota Innova 2.0', 'Toyota Innova 2.5', 'Toyota Qualis',\n",
       "       'Volkswagen Jetta Comfortline', 'Volkswagen Jetta Highline',\n",
       "       'Volkswagen Passat Diesel', 'Volkswagen Polo',\n",
       "       'Volkswagen Polo Comfortline', 'Volkswagen Polo Highline',\n",
       "       'Volkswagen Polo Highline1.2L', 'Volkswagen Polo Trendline',\n",
       "       'Volkswagen Vento Comfortline', 'Volkswagen Vento Highline',\n",
       "       'Volkswagen Vento Konekt', 'Volvo S80 Summum'], dtype=object)"
      ]
     },
     "execution_count": 37,
     "metadata": {},
     "output_type": "execute_result"
    }
   ],
   "source": [
    "pipe.steps[0][1].transformers[0][1].categories[0]"
   ]
  },
  {
   "cell_type": "code",
   "execution_count": 37,
   "id": "dd063cbf",
   "metadata": {
    "id": "OEI-zNX8SX3j",
    "papermill": {
     "duration": 0.014794,
     "end_time": "2023-03-18T10:24:08.878755",
     "exception": false,
     "start_time": "2023-03-18T10:24:08.863961",
     "status": "completed"
    },
    "tags": []
   },
   "outputs": [
    {
     "data": {
      "text/plain": [
       "0.6341717319492364"
      ]
     },
     "execution_count": 37,
     "metadata": {},
     "output_type": "execute_result"
    }
   ],
   "source": [
    "from sklearn.model_selection import cross_val_score\n",
    "\n",
    "lin_reg_model = LinearRegression()\n",
    "pipe = make_pipeline(column_trans, lin_reg_model)\n",
    "\n",
    "scores = cross_val_score(pipe, X, y, cv=5, scoring='r2')\n",
    "average_r2_score = np.mean(scores)\n",
    "np.mean(scores)"
   ]
  }
 ],
 "metadata": {
  "kernelspec": {
   "display_name": "Python 3",
   "language": "python",
   "name": "python3"
  },
  "language_info": {
   "codemirror_mode": {
    "name": "ipython",
    "version": 3
   },
   "file_extension": ".py",
   "mimetype": "text/x-python",
   "name": "python",
   "nbconvert_exporter": "python",
   "pygments_lexer": "ipython3",
   "version": "3.8.8"
  },
  "papermill": {
   "default_parameters": {},
   "duration": 43.978899,
   "end_time": "2023-03-18T10:24:09.716738",
   "environment_variables": {},
   "exception": null,
   "input_path": "__notebook__.ipynb",
   "output_path": "__notebook__.ipynb",
   "parameters": {},
   "start_time": "2023-03-18T10:23:25.737839",
   "version": "2.4.0"
  }
 },
 "nbformat": 4,
 "nbformat_minor": 5
}
